{
 "cells": [
  {
   "cell_type": "markdown",
   "metadata": {},
   "source": [
    "# How-To Deploy a Web Application"
   ]
  },
  {
   "cell_type": "markdown",
   "metadata": {},
   "source": [
    "```{note}\n",
    "Fork this repository in to your own GitHub account to follow along. GitHub provides detailed documentation on different methods of forking that can be found via this [link to GitHub docs](https://docs.github.com/en/pull-requests/collaborating-with-pull-requests/working-with-forks/fork-a-repo?tool=webui).\n",
    "``` "
   ]
  },
  {
   "cell_type": "markdown",
   "metadata": {},
   "source": [
    "## Run the application locally"
   ]
  },
  {
   "cell_type": "markdown",
   "metadata": {},
   "source": [
    "Let's start by running the application locally. Python and Flask are required. If you do not already have python installed on your machine you can do so by following the instructions found at this [link to Python Downloads](https://www.python.org/downloads/)."
   ]
  },
  {
   "cell_type": "markdown",
   "metadata": {},
   "source": [
    "With python installed running the following will install Flask"
   ]
  },
  {
   "cell_type": "markdown",
   "metadata": {},
   "source": [
    "```{note}\n",
    "The ! is used so the Jupyter notebook cells can be run directly. This is not required if you want to run the code on the command line yourself. \n",
    "```"
   ]
  },
  {
   "cell_type": "code",
   "execution_count": null,
   "metadata": {},
   "outputs": [],
   "source": [
    "!pip install -r flask-app/requirements.txt"
   ]
  },
  {
   "cell_type": "markdown",
   "metadata": {},
   "source": [
    "Flask is now installed and the application can be launched with the following command"
   ]
  },
  {
   "cell_type": "code",
   "execution_count": 4,
   "metadata": {},
   "outputs": [
    {
     "name": "stdout",
     "output_type": "stream",
     "text": [
      "[Errno 2] No such file or directory: 'flask-app'\n",
      "/home/ncote/Code/docker-how-to/flask-app\n",
      " * Debug mode: off\n",
      "\u001b[31m\u001b[1mWARNING: This is a development server. Do not use it in a production deployment. Use a production WSGI server instead.\u001b[0m\n",
      " * Running on http://127.0.0.1:5000\n",
      "\u001b[33mPress CTRL+C to quit\u001b[0m\n",
      "^C\n"
     ]
    },
    {
     "name": "stderr",
     "output_type": "stream",
     "text": [
      "UsageError: Line magic function `%` not found.\n"
     ]
    }
   ],
   "source": [
    "%cd flask-app\n",
    "!flask run"
   ]
  },
  {
   "cell_type": "markdown",
   "metadata": {},
   "source": [
    "The link above should direct you to a local website. If not you can use the following link in your browser : [http://127.0.0.1:5000](http://127.0.0.1:5000)"
   ]
  },
  {
   "cell_type": "markdown",
   "metadata": {},
   "source": [
    "Use `CTRL+C` to exit the application or stop the running cell if run directly in the jupyter notebook. "
   ]
  },
  {
   "cell_type": "markdown",
   "metadata": {},
   "source": [
    "## Create a Container File"
   ]
  },
  {
   "cell_type": "markdown",
   "metadata": {},
   "source": [
    "```{note}\n",
    "Docker or Podman are required on your local machine for the next steps. Installation instructions for your OS can be found at this [link to Podman Installation Instructions](https://podman.io/docs/installation) or this [link to Docker Installation Instructions](https://docs.docker.com/engine/install/). If you do not want to build the image locally, using GitHub Actions to build an image is covered below. "
   ]
  },
  {
   "cell_type": "markdown",
   "metadata": {},
   "source": [
    "With either Docker or Podman builds the typical set of instructions on how to build a container is called a Dockerfile. "
   ]
  },
  {
   "cell_type": "markdown",
   "metadata": {},
   "source": [
    "There's a number of different base container images available for various different languages, operating systems, and applications. Since the example application used in this how-to is based on python an official python container image is used as the base. Then files required for the application are copied in. Software dependencies are installed. The port the application runs on is exposed so it can be accessed outside the container. Lastly the command to run the application is supplied and will only be run when the container is started. "
   ]
  },
  {
   "cell_type": "markdown",
   "metadata": {},
   "source": [
    "Create a file named `Dockerfile` that exists in the root of the repository. An example `Dockerfile`, with comments, for the flask-app application can be found below."
   ]
  },
  {
   "cell_type": "markdown",
   "metadata": {},
   "source": [
    "```\n",
    "# Use an official Python runtime as a base image\n",
    "FROM python:3.8-slim\n",
    "\n",
    "# Copy all the filed in the flask-app directory in to the root directory in the container\n",
    "COPY flask-app/ /\n",
    "\n",
    "# Install the python requirements\n",
    "RUN pip install --no-cache-dir -r requirements.txt\n",
    "\n",
    "# Flask runs on port 5000 and it needs to be exposed outside the container\n",
    "EXPOSE 5000\n",
    "\n",
    "# The command to run the Flask application when the container starts\n",
    "CMD [\"python3\", \"./wsgi.py\"]\n",
    "```"
   ]
  },
  {
   "cell_type": "markdown",
   "metadata": {},
   "source": [
    "The container image can be built locally now by running either of the following commands:"
   ]
  },
  {
   "cell_type": "code",
   "execution_count": null,
   "metadata": {},
   "outputs": [],
   "source": [
    "%cd ..\n",
    "!docker build -t app-test ."
   ]
  },
  {
   "cell_type": "code",
   "execution_count": null,
   "metadata": {},
   "outputs": [],
   "source": [
    "!podman build -t app-test ."
   ]
  },
  {
   "cell_type": "markdown",
   "metadata": {},
   "source": [
    "Once the image has been built it can be run with either of the following commands:"
   ]
  },
  {
   "cell_type": "code",
   "execution_count": null,
   "metadata": {},
   "outputs": [],
   "source": [
    "!docker run -p 5000:5000 app-test"
   ]
  },
  {
   "cell_type": "code",
   "execution_count": null,
   "metadata": {},
   "outputs": [],
   "source": [
    "!podman run -p 5000:5000 app-test"
   ]
  },
  {
   "cell_type": "markdown",
   "metadata": {},
   "source": [
    "The example web application can be viewed at [http://127.0.0.1:5000](http://127.0.0.1:5000). "
   ]
  },
  {
   "cell_type": "markdown",
   "metadata": {},
   "source": [
    "## Create GitHub Workflow"
   ]
  },
  {
   "cell_type": "markdown",
   "metadata": {},
   "source": [
    "### Setup directories"
   ]
  },
  {
   "cell_type": "markdown",
   "metadata": {},
   "source": [
    "GitHub Actions and Workflows can be utilized to build the container image instead of building it locally. YAML files are utilized inside the `.github/workflows/` directory to define the jobs and actions the automated workflow should follow. First create a directory in the root of the repository named `.github`. Inside the `.github` folder create another folder named `workflows`. "
   ]
  },
  {
   "cell_type": "markdown",
   "metadata": {},
   "source": [
    "### Repository Secrets"
   ]
  },
  {
   "cell_type": "markdown",
   "metadata": {},
   "source": [
    "GitHub provides a way to inject secret information, like login credentials, into workflow jobs. From the GitHub main repository website select the repository Settings from the far right of the navigation bar at the top of the page. On the left side table of contents there is a Security section with a dropdown for Secrets and variables. Expand the options and select Actions to land at the following page. "
   ]
  },
  {
   "cell_type": "markdown",
   "metadata": {},
   "source": [
    "![GitHub Repo Secrets Screenshot](images/github_secrets.png \"GitHub Repo Secrets\")"
   ]
  },
  {
   "cell_type": "markdown",
   "metadata": {},
   "source": [
    "```{note}\n",
    "You can also append `/settings/secrets/actions` to the repositories base URL. For example `https://github.com/NicholasCote/docker-how-to/settings/secrets/actions`\n",
    "```"
   ]
  },
  {
   "cell_type": "markdown",
   "metadata": {},
   "source": [
    "Select the New repository secret button to create and add a new secret. The secret is not readable after it is added. It can only be changed or deleted. The example above added `DOCKERHUB_USERNAME` and `DOCKERHUB_TOKEN` secrets to the repository that can be utilized to push images to a Docker Hub container registry. "
   ]
  },
  {
   "cell_type": "markdown",
   "metadata": {},
   "source": [
    "```{note}\n",
    "In order to completely follow the example a Docker Hub account and an Access Token for that account is required. Access tokens for Docker Hub accounts can be created at the following [link to security settings](https://hub.docker.com/settings/security). Add the Hub username and Access Token to the repository by following the instructions above. \n",
    "```"
   ]
  },
  {
   "cell_type": "markdown",
   "metadata": {},
   "source": [
    "### Create Docker build YAML file"
   ]
  },
  {
   "cell_type": "markdown",
   "metadata": {},
   "source": [
    "Create a file named `docker-build.yaml` in the `.github/workflows/` directory. This file will define the different components of the automated workflow. First define the name of your workflow"
   ]
  },
  {
   "cell_type": "markdown",
   "metadata": {},
   "source": [
    "```yaml\n",
    "name: Build & push container\n",
    "```"
   ]
  },
  {
   "cell_type": "markdown",
   "metadata": {},
   "source": [
    "Next define what action triggers the workflow. In the example it will run when any pushes are made to the `flask-app/` directory in the main branch"
   ]
  },
  {
   "cell_type": "markdown",
   "metadata": {},
   "source": [
    "```yaml\n",
    "on:\n",
    "  push:\n",
    "    paths:\n",
    "      - flask-app/**\n",
    "    branches:\n",
    "      - main\n",
    "```"
   ]
  },
  {
   "cell_type": "markdown",
   "metadata": {},
   "source": [
    "The last step is to define the job(s) that need to run as part of the workflow. The example only defines a single job, but multiple jobs can be configured in a workflow. GitHub provides different virtual machines, called runners, that can be used to execute jobs. The latest ubuntu image is used for the job in the example but other options are available and a full list can be found at this [link to available GitHub runners](https://docs.github.com/en/actions/using-github-hosted-runners/about-github-hosted-runners/about-github-hosted-runners#supported-runners-and-hardware-resources). The following start to the example defines a job named build-image that runs on ubuntu-latest."
   ]
  },
  {
   "cell_type": "markdown",
   "metadata": {},
   "source": [
    "```yaml\n",
    "jobs:\n",
    "  build-image:\n",
    "    runs-on: ubuntu-latest\n",
    "```"
   ]
  },
  {
   "cell_type": "markdown",
   "metadata": {},
   "source": [
    "Each job consists of steps to run through. The job to build and push a docker image consists of 4 steps. First checkout the GitHub repo, login to Docker Hub with the repository secrets, get the current date and time to apply as the image tag, build, and push the image. "
   ]
  },
  {
   "cell_type": "markdown",
   "metadata": {},
   "source": [
    "```{note}\n",
    "The date and time is used to provide a unique tag value. Using `:latest` as the tag is not best practice as it can not create a difference in Helm chart versions to trigger using a new image. \n",
    "```"
   ]
  },
  {
   "cell_type": "markdown",
   "metadata": {},
   "source": [
    "```yaml\n",
    "    steps:\n",
    "      # Step 1 is to checkout the github repo used to build the Dockerfile\n",
    "      - name: Check out the repo\n",
    "        uses: actions/checkout@v3\n",
    "      # Step 2 is to login to docker hub so the image can be pushed\n",
    "      - name: Login to Docker Hub\n",
    "        uses: docker/login-action@v2\n",
    "        # GitHub repository secrets are used as variables to provide login information to Docker Hub\n",
    "        with:\n",
    "          username: ${{ secrets.DOCKERHUB_USERNAME }}\n",
    "          password: ${{ secrets.DOCKERHUB_TOKEN  }}\n",
    "      # Get the date and send to GITHUB_OUTPUT to apply as image tag\n",
    "      - name: Get current date\n",
    "        id: date\n",
    "        run: echo \"date=$(date +'%Y-%m-%d.%H')\" >> $GITHUB_OUTPUT\n",
    "      # Build and push the docker image\n",
    "      - name: Build Docker image\n",
    "        uses: docker/build-push-action@v4\n",
    "        with:\n",
    "          # Provide the current directory as build context \n",
    "          context: .\n",
    "          # Specify where the Dockerfile is located in relation to the repo base path\n",
    "          file: Dockerfile\n",
    "          # Enable the push to docker hub\n",
    "          push: true\n",
    "          # Provide the tags to apply to the image, this example uses the latest image tag \n",
    "          tags: |\n",
    "            ncote/docker-example:${{ steps.date.outputs.date }}\n",
    "```\n"
   ]
  },
  {
   "cell_type": "markdown",
   "metadata": {},
   "source": [
    "The last step uses an action that pushes the image created to Docker Hub. The only unique value that needs to be updated is the last line, the image name and tag. The part before the `/` is the name of the container registry. The part after the `/` is the image name and tag. The `${{ }}` is how variables are defined in the workflow file. The example uses the output from the 2nd step as a variable to use for the image tag. An example of how to create a workflow that also pushes the image to Docker Hub will be explored further down in the documentation. This workflow is a great way to test that changes made work before pushing images out or updating Helm charts. In full the example workflow looks like the following:"
   ]
  },
  {
   "cell_type": "markdown",
   "metadata": {},
   "source": [
    "```yaml\n",
    "name: Automation to build a container image\n",
    "\n",
    "on:\n",
    "  push:\n",
    "    paths:\n",
    "      - flask-app/**\n",
    "    branches:\n",
    "      - main\n",
    "\n",
    "jobs:\n",
    "  build-image:\n",
    "    runs-on: ubuntu-latest\n",
    "    steps:\n",
    "      # Step 1 is to checkout the github repo used to build the Dockerfile\n",
    "      - name: Check out the repo\n",
    "        uses: actions/checkout@v3\n",
    "      # Step 2 is to login to docker hub so the image can be pushed\n",
    "      - name: Login to Docker Hub\n",
    "        uses: docker/login-action@v2\n",
    "        # GitHub repository secrets are used as variables to provide login information to Docker Hub\n",
    "        with:\n",
    "          username: ${{ secrets.DOCKERHUB_USERNAME }}\n",
    "          password: ${{ secrets.DOCKERHUB_TOKEN  }}\n",
    "      # Get the date and send to GITHUB_OUTPUT to apply as image tag\n",
    "      - name: Get current date\n",
    "        id: date\n",
    "        run: echo \"date=$(date +'%Y-%m-%d.%H')\" >> $GITHUB_OUTPUT\n",
    "      # Build and push the docker image\n",
    "      - name: Build Docker image\n",
    "        uses: docker/build-push-action@v4\n",
    "        with:\n",
    "          # Provide the current directory as build context \n",
    "          context: .\n",
    "          # Specify where the Dockerfile is located in relation to the repo base path\n",
    "          file: Dockerfile\n",
    "          # Enable the push to docker hub\n",
    "          push: true\n",
    "          # Provide the tags to apply to the image, this example uses the latest image tag \n",
    "          tags: |\n",
    "            ncote/docker-example:${{ steps.date.outputs.date }}\n",
    "```"
   ]
  },
  {
   "cell_type": "markdown",
   "metadata": {},
   "source": [
    "### Run the Workflow"
   ]
  },
  {
   "cell_type": "markdown",
   "metadata": {},
   "source": [
    "Now that the workflow is in place push the changes to GitHub and get the new workflow defined for the repository. The trigger is any change to a file in the `flask-app/` directory. Navigate to that directory, open the templates folder, and edit `home.html`. Let's just add a second header to the HTML below `<h1>A Demo WebApp</h1>` with our name to test the build and container registry push. An example line of what the code looks like can be seen below: "
   ]
  },
  {
   "cell_type": "markdown",
   "metadata": {},
   "source": [
    "```html\n",
    "        <h2>Nick Cote</h2>\n",
    "```"
   ]
  },
  {
   "cell_type": "markdown",
   "metadata": {},
   "source": [
    "With that in place commit and push the changes to the repository. Once the command has been run navigate back to the repository in a web browser. The 4th option from the left on the top navigation bar is for Actions. Click this to be directed to a list of all workflow runs. The last job run will be at the top. If done fast enough the job should still be running and the status can be viewed real time by clicking on the title of the workflow, which is the commit message supplied before the push, and then clicking on the job title. If all the steps above were followed correctly the job should complete without issue and a new image will have been pushed to the Docker Hub account configured in the repository secrets. Navigate to Docker Hub to check the container registry for the new image. The image can be pulled and run directly from Docker Hub now with something like the following command, just update the image name to match the custom value used in the workflow: "
   ]
  },
  {
   "cell_type": "markdown",
   "metadata": {},
   "source": [
    "`docker run -p 5000:5000 ncote/docker-example:2024-02-13.16`"
   ]
  },
  {
   "cell_type": "markdown",
   "metadata": {},
   "source": [
    "When it starts navigate a browser to [http://127.0.0.1:5000/](http://127.0.0.1:5000/) and the website will be accessible. The new header can be seen and the next steps are to incorporate the image in to a Helm chart that can be tied in to the CISL on-premise cloud continuous deployment tool."
   ]
  },
  {
   "cell_type": "markdown",
   "metadata": {},
   "source": [
    "## Create a Helm Chart"
   ]
  },
  {
   "cell_type": "markdown",
   "metadata": {},
   "source": [
    "There are a few different Helm chart templates that are supplied to help get the ball rolling. Links to each one can be found below:"
   ]
  },
  {
   "cell_type": "markdown",
   "metadata": {},
   "source": [
    "- [Standalone Web Application](https://github.com/NicholasCote/web-app-helm)\n",
    "- [Containers with Auto-scaling](https://github.com/NicholasCote/web-app-helm-auto-scale)\n",
    "- [Web Application with a dedicated Dask Cluster](https://github.com/NicholasCote/web-app-dask-helm)\n",
    "- [Web Application with a GLADE mount](https://github.com/NicholasCote/web-app-vols-helm)"
   ]
  },
  {
   "cell_type": "markdown",
   "metadata": {},
   "source": [
    "The application used in this repository is a Standalone Web Application. The files used in that repository can be copied in to this repository and customized for this unique application. The easiest way to integrate the new files is to clone the repository to a new local directory and copy the `web-app-helm/` folder in to this repository.  "
   ]
  },
  {
   "cell_type": "markdown",
   "metadata": {},
   "source": [
    "```\n",
    "git clone https://github.com/NicholasCote/web-app-helm.git\n",
    "cp -r web-app-helm/web-app-helm/ docker-how-to/\n",
    "```"
   ]
  },
  {
   "cell_type": "markdown",
   "metadata": {},
   "source": [
    "That folder is now integrated with the docker-how-to repository and changes can be made to customize the Chart."
   ]
  },
  {
   "cell_type": "markdown",
   "metadata": {},
   "source": [
    "### Update values.yaml"
   ]
  },
  {
   "cell_type": "markdown",
   "metadata": {},
   "source": [
    "```{note}\n",
    "The example uses ncote as the sso user name. Please replace ncote with your own sso user name\n",
    "```"
   ]
  },
  {
   "cell_type": "markdown",
   "metadata": {},
   "source": [
    "Inside the `web-app-helm/` directory is a file named `values.yaml` where all the variables needed for the application are defined. For the application being deployed there are 7 lines that need to be updated with custom values. Line 4 is the application name and should be short but descriptive. For this demonstration example using your sso username and how-to like `ncote-how-to` is sufficient. Line 5 is a group name and for this it's fine to use the application name. Line 6 is the applications URL path. For flask the base URL path is just `/` and that is used in this instance. Line 8 is the FQDN we want to use for the applications URL. This is typically just the app name followed by `.k8s.ucar.edu`. Based off the previous app name example the FQDN would be `ncote-how-to.k8s.ucar.edu`. Line 9 is a Kubernetes secret that gets created to store the TLS certificate tied to the FQDN for the application. This needs to be unique for the FQDN and an applicable value would end with the application name. Going with the same example app name the secretName would be `incommon-cert-ncote-how-to`. Line 11 is the container image to use and it should match the image above, for example `ncote/docker-example:2024-02-13.16` was the image created. Line 12 is the port exposed by the container that we want to connect to. For flask the default is 5000 and that is what should be used. The final values.yaml file should look something like this just with ncote being replace with your sso. "
   ]
  },
  {
   "cell_type": "markdown",
   "metadata": {},
   "source": [
    "```yaml\n",
    "replicaCount: 1\n",
    "\n",
    "webapp:\n",
    "  name: ncote-how-to\n",
    "  group: ncote-how-to\n",
    "  path: /\n",
    "  tls:\n",
    "    fqdn: ncote-how-to.k8s.ucar.edu\n",
    "    secretName: incommon-cert-ncote-how-to\n",
    "  container: \n",
    "    image: hub.k8s.ucar.edu/docker/ncote/docker-example:2024-02-13.16\n",
    "    port: 5000\n",
    "    memory: 1G\n",
    "    cpu: 2\n",
    "```"
   ]
  },
  {
   "cell_type": "markdown",
   "metadata": {},
   "source": [
    "### Update Chart.yaml"
   ]
  },
  {
   "cell_type": "markdown",
   "metadata": {},
   "source": [
    "The `Chart.yaml` file only has a few values that need to be updated to make the application unique. Line 2 is the application name, this should be the same as the application name provided in the `values.yaml` file. Line 3 is a description for the application. This should be something short but descriptive for the application. For this example the following would be applicable `ncote's flask application for how-to tutorial`. Line 18 is the Semantic version and it should be incremented by one every time there is an update to the application. Line 24 is the application version and typically matches the container image tag.   "
   ]
  },
  {
   "cell_type": "markdown",
   "metadata": {},
   "source": [
    "## Connect to Argo CD"
   ]
  },
  {
   "cell_type": "markdown",
   "metadata": {},
   "source": [
    "```{note}\n",
    "This section needs to be done by a CISL on-premise cloud administrator.\n",
    "```"
   ]
  },
  {
   "cell_type": "markdown",
   "metadata": {},
   "source": [
    "If you are not following this how-to as part of a CISL on-prem cloud tutorial you will need to get a ticket submitted to get this application added to Argo CD for testing. Since this is just a demonstration it should not be deployed long term and should be deleted shortly after initial deployment. "
   ]
  }
 ],
 "metadata": {
  "kernelspec": {
   "display_name": "Python (ncote)",
   "language": "python",
   "name": "ncote"
  },
  "language_info": {
   "codemirror_mode": {
    "name": "ipython",
    "version": 3
   },
   "file_extension": ".py",
   "mimetype": "text/x-python",
   "name": "python",
   "nbconvert_exporter": "python",
   "pygments_lexer": "ipython3",
   "version": "3.9.18"
  }
 },
 "nbformat": 4,
 "nbformat_minor": 2
}
